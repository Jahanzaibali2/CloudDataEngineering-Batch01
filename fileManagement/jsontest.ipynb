{
 "cells": [
  {
   "cell_type": "code",
   "execution_count": 16,
   "metadata": {},
   "outputs": [],
   "source": [
    "import json\n",
    "json_string = \"{'Jahanzaib', 'Rayyan','Saad': 21321,'city': 'Karachi'}\"\n",
    "with open(\"info.txt\",\"w\") as file:\n",
    "    file.write(json_string)\n"
   ]
  },
  {
   "cell_type": "code",
   "execution_count": 17,
   "metadata": {},
   "outputs": [
    {
     "name": "stdout",
     "output_type": "stream",
     "text": [
      "{'Jahanzaib', 'Rayyan','Saad': 21321,'city': 'Karachi'}\n"
     ]
    }
   ],
   "source": [
    "with open(\"info.txt\",\"r\") as file:\n",
    "    x = file.read()\n",
    "print(x)"
   ]
  },
  {
   "cell_type": "code",
   "execution_count": 23,
   "metadata": {},
   "outputs": [],
   "source": [
    "with open(\"json.txt\",\"w\") as file:\n",
    "   json.dump(json_string,file)"
   ]
  },
  {
   "cell_type": "code",
   "execution_count": 25,
   "metadata": {},
   "outputs": [
    {
     "name": "stdout",
     "output_type": "stream",
     "text": [
      "{'Jahanzaib', 'Rayyan','Saad': 21321,'city': 'Karachi'}\n"
     ]
    }
   ],
   "source": [
    "with open(\"json.txt\",\"r\") as file:\n",
    "   infod = json.load(file)\n",
    "print(infod)"
   ]
  },
  {
   "cell_type": "code",
   "execution_count": 34,
   "metadata": {},
   "outputs": [
    {
     "name": "stdout",
     "output_type": "stream",
     "text": [
      "{'name': 'Jahanzaib', 'Age': 21, 'city': 'Karachi'}\n"
     ]
    }
   ],
   "source": [
    "import json\n",
    "\n",
    "def jsonToDict(string):\n",
    "    with open(\"dict.txt\",\"w\") as file:\n",
    "        json.dump(string,file)\n",
    "    file.close()\n",
    "    with open(\"dict.txt\",\"r\") as file:\n",
    "        x = json.load(file)\n",
    "    return x\n",
    "\n",
    "string = {'name': 'Jahanzaib','Age': 21,'city': 'Karachi'}\n",
    "value = jsonToDict(string)\n",
    "\n",
    "print(value)"
   ]
  },
  {
   "cell_type": "code",
   "execution_count": null,
   "metadata": {},
   "outputs": [],
   "source": []
  }
 ],
 "metadata": {
  "kernelspec": {
   "display_name": "Python 3",
   "language": "python",
   "name": "python3"
  },
  "language_info": {
   "codemirror_mode": {
    "name": "ipython",
    "version": 3
   },
   "file_extension": ".py",
   "mimetype": "text/x-python",
   "name": "python",
   "nbconvert_exporter": "python",
   "pygments_lexer": "ipython3",
   "version": "3.13.0"
  }
 },
 "nbformat": 4,
 "nbformat_minor": 2
}
